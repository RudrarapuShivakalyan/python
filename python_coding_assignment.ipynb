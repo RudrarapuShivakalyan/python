{
 "cells": [
  {
   "cell_type": "raw",
   "id": "77845141-7f28-4109-8671-aa577c7301a2",
   "metadata": {
    "vscode": {
     "languageId": "raw"
    }
   },
   "source": [
    "Section 1:Python Operators and Control Structures"
   ]
  },
  {
   "cell_type": "code",
   "execution_count": null,
   "id": "8da5edfe-62ff-4bab-9687-fb6a78f06f26",
   "metadata": {},
   "outputs": [],
   "source": [
    "Question 1: Calculate the sum of all numbers in a list using a for loop.\n",
    "Sample Input:numbers = [1, 2, 3, 4, 5]  \n",
    "Sample Output:15"
   ]
  },
  {
   "cell_type": "code",
   "execution_count": 4,
   "id": "909dd640-f666-4a16-980b-c406086ee226",
   "metadata": {},
   "outputs": [
    {
     "name": "stdout",
     "output_type": "stream",
     "text": [
      "15\n"
     ]
    }
   ],
   "source": [
    "numbers = [1, 2, 3, 4, 5]\n",
    "total = 0\n",
    "for num in numbers:\n",
    "    total += num\n",
    "print(total)"
   ]
  },
  {
   "cell_type": "code",
   "execution_count": null,
   "id": "6d860071-538a-4241-b51b-a6b97dff1c07",
   "metadata": {},
   "outputs": [],
   "source": [
    "This program initializes `total` to 0, then iterates through each number in the list and adds it to `total`. Finally, the sum is printed."
   ]
  },
  {
   "cell_type": "code",
   "execution_count": null,
   "id": "d2a7991d-654c-4bbe-86f6-9491963a1370",
   "metadata": {},
   "outputs": [],
   "source": [
    "Question 2:What is the output of the following code?\n",
    "Code:\n",
    "\n",
    "x = 5\n",
    "y = 2\n",
    "print(x ** y)\n",
    "Sample Output: 25"
   ]
  },
  {
   "cell_type": "code",
   "execution_count": 3,
   "id": "b1ae7c8e-7a1d-469c-b73f-74c57d1b76a2",
   "metadata": {},
   "outputs": [
    {
     "name": "stdout",
     "output_type": "stream",
     "text": [
      "25\n"
     ]
    }
   ],
   "source": [
    "x = 5\n",
    "y = 2\n",
    "print(x ** y)\n"
   ]
  },
  {
   "cell_type": "code",
   "execution_count": null,
   "id": "09accfbf-e6b3-41c4-ba23-203f3fde46b9",
   "metadata": {},
   "outputs": [],
   "source": [
    "The ** operator in Python is the exponentiation operator, which raises x to the power of y.\n",
    "5*5=25"
   ]
  },
  {
   "cell_type": "markdown",
   "metadata": {},
   "source": []
  },
  {
   "cell_type": "code",
   "execution_count": null,
   "id": "4ba7fcb5-c8d1-41de-b4f7-2efbe6028d89",
   "metadata": {},
   "outputs": [],
   "source": [
    "Question 3:Write a Python program to check if a number is a palindrome using a while loop.\n",
    "\n",
    "Sample Input: num = 12321\n",
    "Sample Output: True"
   ]
  },
  {
   "cell_type": "code",
   "execution_count": null,
   "id": "240bf8de-4a03-4bf2-a56c-a96b6ffc0032",
   "metadata": {},
   "outputs": [
    {
     "name": "stdout",
     "output_type": "stream",
     "text": [
      "True\n"
     ]
    }
   ],
   "source": [
    "def is_palindrome(num):\n",
    "    original_num = num  \n",
    "    reversed_num = 0  \n",
    "\n",
    "    while num > 0:\n",
    "        digit = num % 10  \n",
    "        reversed_num = reversed_num * 10 + digit  \n",
    "        num = num // 10  \n",
    "\n",
    "    return original_num == reversed_num \n",
    "\n",
    "num = 12321\n",
    "\n",
    "print(is_palindrome(num))  \n"
   ]
  },
  {
   "cell_type": "code",
   "execution_count": null,
   "id": "be64e2e8-7af8-4b23-be3d-9688bd98b486",
   "metadata": {},
   "outputs": [],
   "source": [
    "A palindrome number is a number that reads the same forward and backward. \n",
    "\n",
    "For example:\n",
    "- 12321 -> Palindrome  \n",
    "- 12345 -> Not a Palindrome  "
   ]
  },
  {
   "cell_type": "code",
   "execution_count": null,
   "id": "17a65f84-78bf-4f14-9bab-bce057cd819a",
   "metadata": {},
   "outputs": [],
   "source": [
    "Question 4: What is the output of the following code?\n",
    "\n",
    "Code:\n",
    "\n",
    "fruits = ['apple', 'banana', 'cherry']\n",
    "print(fruits[-1])\n",
    "Sample Output: cherry"
   ]
  },
  {
   "cell_type": "code",
   "execution_count": null,
   "id": "0ae5fd06-baf8-436a-9ea2-d488b526caa6",
   "metadata": {},
   "outputs": [
    {
     "name": "stdout",
     "output_type": "stream",
     "text": [
      "cherry\n"
     ]
    }
   ],
   "source": [
    "fruits = ['apple', 'banana', 'cherry']\n",
    "print(fruits[-1])"
   ]
  },
  {
   "cell_type": "code",
   "execution_count": null,
   "id": "6a654718-9adc-4e7d-a440-58440bf79ee1",
   "metadata": {},
   "outputs": [],
   "source": [
    "In Python, negative indexing allows us to access elements from the end of a list.\n",
    "fruits[-1] means \"the last element of the list.\""
   ]
  },
  {
   "cell_type": "code",
   "execution_count": null,
   "id": "21db93c6-f447-41ef-8d18-0a4db3f85644",
   "metadata": {},
   "outputs": [],
   "source": [
    "Question 5:Question: Write a Python program to calculate the average of all numbers in a list using a for loop.\n",
    "\n",
    "Sample Input: numbers = [1, 2, 3, 4, 5]\n",
    " Sample Output: 3.0"
   ]
  },
  {
   "cell_type": "code",
   "execution_count": null,
   "id": "61d67e16-f619-4153-9f75-f3e162ca9a7a",
   "metadata": {},
   "outputs": [
    {
     "name": "stdout",
     "output_type": "stream",
     "text": [
      "3.0\n"
     ]
    }
   ],
   "source": [
    "numbers = [1, 2, 3, 4, 5]\n",
    "\n",
    "total_sum = 0\n",
    "\n",
    "for num in numbers:\n",
    "    total_sum += num  \n",
    "\n",
    "average = total_sum / len(numbers)\n",
    "\n",
    "print(average)  "
   ]
  },
  {
   "cell_type": "code",
   "execution_count": null,
   "id": "1249daaf-60c4-4418-a0e4-de9ddfc79ceb",
   "metadata": {},
   "outputs": [],
   "source": [
    "Initialize Variables:\n",
    "\n",
    "total_sum = 0: Stores the sum of numbers.\n",
    "numbers = [1, 2, 3, 4, 5].\n",
    "Loop Through the List:\n",
    "\n",
    "Using a for loop, each number in numbers is added to total_sum:\n",
    "ini\n",
    "Copy code\n",
    "total_sum = 1 + 2 + 3 + 4 + 5 = 15\n",
    "Calculate the Average:\n",
    "\n",
    "Divide total_sum by the number of elements in the list:\n",
    "ini\n",
    "Copy code\n",
    "average = 15 / 5 = 3.0\n",
    "Print the Result:\n",
    "\n",
    "The final output is 3.0, which is the correct average."
   ]
  },
  {
   "cell_type": "code",
   "execution_count": null,
   "id": "ea4069ab-1ce9-41c3-88f4-e5af08fcb272",
   "metadata": {},
   "outputs": [],
   "source": [
    "Section 2: Lists and Dictionaries"
   ]
  },
  {
   "cell_type": "code",
   "execution_count": null,
   "id": "3d8640e9-0a71-4559-b112-c75bf1ec3cbd",
   "metadata": {},
   "outputs": [],
   "source": [
    "Question 6: Write a Python program to create a dictionary with student names as keys and their grades as values.\n",
    "Sample Input: students = ['John', 'Alice', 'Bob'], grades = [90, 85, 95]\n",
    "\n",
    "Sample Output: {'John': 90, 'Alice': 85, 'Bob': 95}"
   ]
  },
  {
   "cell_type": "code",
   "execution_count": null,
   "id": "a23aad9a-d730-441a-80cd-a0f542cf08a2",
   "metadata": {},
   "outputs": [
    {
     "data": {
      "text/plain": [
       "{'John': 90, 'Alice': 85, 'Bob': 95}"
      ]
     },
     "execution_count": 6,
     "metadata": {},
     "output_type": "execute_result"
    }
   ],
   "source": [
    "students = ['John', 'Alice', 'Bob']\n",
    "grades = [90, 85, 95]\n",
    "\n",
    "student_grades = dict(zip(students, grades))\n",
    "student_grades"
   ]
  },
  {
   "cell_type": "code",
   "execution_count": null,
   "id": "bd331a76-2bfb-42ac-9615-68ff32cbb557",
   "metadata": {},
   "outputs": [],
   "source": [
    "We use the zip function to pair student names with their grades and then convert the result into a dictionary using dict()."
   ]
  },
  {
   "cell_type": "code",
   "execution_count": null,
   "id": "ceeb6fc4-0051-4c17-afc2-570785006b60",
   "metadata": {},
   "outputs": [],
   "source": [
    "Question 7: What is the output of the following code?\n",
    "Code:\n",
    "numbers = [1, 2, 3, 4, 5]\n",
    "print(numbers[1:3])\n",
    "Sample Output: [2, 3]"
   ]
  },
  {
   "cell_type": "code",
   "execution_count": null,
   "id": "dd8449fd-dd3c-4294-9a14-732bc4248a78",
   "metadata": {},
   "outputs": [
    {
     "data": {
      "text/plain": [
       "[2, 3]"
      ]
     },
     "execution_count": 9,
     "metadata": {},
     "output_type": "execute_result"
    }
   ],
   "source": [
    "numbers = [1, 2, 3, 4, 5]\n",
    "numbers[1:3]"
   ]
  },
  {
   "cell_type": "code",
   "execution_count": null,
   "id": "7cf4fabc-4e4e-43d0-b4d2-63629353bbf8",
   "metadata": {},
   "outputs": [],
   "source": [
    "The slice numbers[1:3] extracts the elements at index 1 and 2, which are 2 and 3."
   ]
  },
  {
   "cell_type": "code",
   "execution_count": null,
   "id": "4b706d11-4b65-4941-910b-d28df6de79ba",
   "metadata": {},
   "outputs": [],
   "source": [
    "Question 8: Write a Python program to sort a list of numbers in ascending order using the sorted() function.\n",
    "Sample Input: numbers = [4, 2, 9, 6, 5]\n",
    "\n",
    "Sample Output: [2, 4, 5, 6, 9]"
   ]
  },
  {
   "cell_type": "code",
   "execution_count": null,
   "id": "f7781b2b-70c4-4cb2-9ba0-218a99227b3b",
   "metadata": {},
   "outputs": [
    {
     "data": {
      "text/plain": [
       "[2, 4, 5, 6, 9]"
      ]
     },
     "execution_count": 10,
     "metadata": {},
     "output_type": "execute_result"
    }
   ],
   "source": [
    "numbers = [4, 2, 9, 6, 5]\n",
    "sorted_numbers = sorted(numbers)\n",
    "sorted_numbers"
   ]
  },
  {
   "cell_type": "code",
   "execution_count": null,
   "id": "9517adb4-c07f-4d4a-8f1f-4e2a0f247537",
   "metadata": {},
   "outputs": [],
   "source": [
    "The sorted() function returns a new list containing the elements of the original list sorted in ascending order."
   ]
  },
  {
   "cell_type": "code",
   "execution_count": null,
   "id": "ac16a67a-8fd2-4941-a3f1-35cf88c9121c",
   "metadata": {},
   "outputs": [],
   "source": [
    "Question 9: What is the output of the following code?\n",
    "fruits = {'apple': 5, 'banana': 10, 'cherry': 15}\n",
    "print(fruits.get('banana'))"
   ]
  },
  {
   "cell_type": "code",
   "execution_count": null,
   "id": "427b4980-dc50-4620-b794-093354353d5d",
   "metadata": {},
   "outputs": [
    {
     "data": {
      "text/plain": [
       "10"
      ]
     },
     "execution_count": 11,
     "metadata": {},
     "output_type": "execute_result"
    }
   ],
   "source": [
    "fruits = {'apple': 5, 'banana': 10, 'cherry': 15}\n",
    "fruits.get('banana')"
   ]
  },
  {
   "cell_type": "code",
   "execution_count": null,
   "id": "c0cb5282-02c0-413b-8b70-04306cd8f6ff",
   "metadata": {},
   "outputs": [],
   "source": [
    "The get() method is used to access the value associated with the key 'banana' in the dictionary, which is 10."
   ]
  },
  {
   "cell_type": "code",
   "execution_count": null,
   "id": "e74ef3f9-4e1f-480e-b78c-f16fbf42294d",
   "metadata": {},
   "outputs": [],
   "source": [
    "Question 10: Write a Python program to create a list of squares of all numbers from 1 to 10 using a list comprehension.\n",
    "Sample Output: [1, 4, 9, 16, 25, 36, 49, 64, 81, 100]"
   ]
  },
  {
   "cell_type": "code",
   "execution_count": null,
   "id": "5fdcc74f-15c1-44c3-9b36-64dbcbed0cd8",
   "metadata": {},
   "outputs": [
    {
     "data": {
      "text/plain": [
       "[1, 4, 9, 16, 25, 36, 49, 64, 81, 100]"
      ]
     },
     "execution_count": 12,
     "metadata": {},
     "output_type": "execute_result"
    }
   ],
   "source": [
    "squares = [x**2 for x in range(1, 11)]\n",
    "squares"
   ]
  },
  {
   "cell_type": "code",
   "execution_count": null,
   "id": "e58c5e79-a8a7-4aa0-9a1f-a6b617719a68",
   "metadata": {},
   "outputs": [],
   "source": [
    " We use list comprehension to iterate over numbers from 1 to 10 and compute their squares."
   ]
  },
  {
   "cell_type": "code",
   "execution_count": null,
   "id": "09eee3f5-799d-420d-91ed-f2e1d6e2d443",
   "metadata": {},
   "outputs": [],
   "source": [
    "Section 3: Advanced Topics"
   ]
  },
  {
   "cell_type": "code",
   "execution_count": null,
   "id": "6de7ba47-4528-4b8e-b65b-4425a4662143",
   "metadata": {},
   "outputs": [],
   "source": [
    "Question 11: Write a Python program to calculate the factorial of a number using recursion.\n",
    "Sample Input: num = 5\n",
    "\n",
    "Sample Output: 120"
   ]
  },
  {
   "cell_type": "code",
   "execution_count": null,
   "id": "916838b6-5d5a-4ff6-b74d-1799610776e7",
   "metadata": {},
   "outputs": [
    {
     "data": {
      "text/plain": [
       "120"
      ]
     },
     "execution_count": 13,
     "metadata": {},
     "output_type": "execute_result"
    }
   ],
   "source": [
    "def factorial(n):\n",
    "    if n == 0 or n == 1:\n",
    "        return 1\n",
    "    else:\n",
    "        return n * factorial(n-1)\n",
    "\n",
    "factorial(5)"
   ]
  },
  {
   "cell_type": "code",
   "execution_count": null,
   "id": "33413aea-b5da-4e54-b893-5ccda984b8d6",
   "metadata": {},
   "outputs": [],
   "source": [
    "The factorial() function uses recursion to calculate the factorial of a number. The base case is when n is 0 or 1, where the factorial is 1."
   ]
  },
  {
   "cell_type": "code",
   "execution_count": null,
   "id": "65788c1b-be76-4665-a811-d5e5722f30bb",
   "metadata": {},
   "outputs": [],
   "source": [
    "Question 12: What is the output of the following code?\n",
    "numbers = [1, 2, 3, 4, 5]\n",
    "print(list(reversed(numbers)))\n",
    "Sample Output: [5, 4, 3, 2, 1]"
   ]
  },
  {
   "cell_type": "code",
   "execution_count": null,
   "id": "52c77b69-98c0-4151-bf85-cad5048c5980",
   "metadata": {},
   "outputs": [
    {
     "data": {
      "text/plain": [
       "[5, 4, 3, 2, 1]"
      ]
     },
     "execution_count": 14,
     "metadata": {},
     "output_type": "execute_result"
    }
   ],
   "source": [
    "numbers = [1, 2, 3, 4, 5]\n",
    "list(reversed(numbers))"
   ]
  },
  {
   "cell_type": "code",
   "execution_count": null,
   "id": "73627bbc-3283-472e-a09a-0066141abf98",
   "metadata": {},
   "outputs": [],
   "source": [
    "The reversed() function returns an iterator that iterates through the list in reverse order, and list() is used to convert the iterator into a list."
   ]
  },
  {
   "cell_type": "code",
   "execution_count": null,
   "id": "34246902-5abb-4080-a81a-b44c718049b5",
   "metadata": {},
   "outputs": [],
   "source": [
    "Question 13: Write a Python program to create a generator that yields the Fibonacci sequence up to the nth term.\n",
    "Sample Input: n = 10\n",
    "\n",
    "Sample Output: [0, 1, 1, 2, 3, 5, 8, 13, 21, 34]"
   ]
  },
  {
   "cell_type": "code",
   "execution_count": null,
   "id": "860ac95d-bfed-41fe-a72e-b73b5dc63e06",
   "metadata": {},
   "outputs": [
    {
     "data": {
      "text/plain": [
       "[0, 1, 1, 2, 3, 5, 8, 13, 21, 34]"
      ]
     },
     "execution_count": 15,
     "metadata": {},
     "output_type": "execute_result"
    }
   ],
   "source": [
    "def fibonacci(n):\n",
    "    a, b = 0, 1\n",
    "    for _ in range(n):\n",
    "        yield a\n",
    "        a, b = b, a + b\n",
    "\n",
    "list(fibonacci(10))"
   ]
  },
  {
   "cell_type": "code",
   "execution_count": null,
   "id": "bee40aeb-438f-4013-9310-0340bb082eb0",
   "metadata": {},
   "outputs": [],
   "source": [
    "The fibonacci() function is a generator that yields Fibonacci numbers up to n terms. We use a for loop to generate each Fibonacci number."
   ]
  },
  {
   "cell_type": "code",
   "execution_count": null,
   "id": "5cdb525b-55f3-458a-b68c-dcb8578a5029",
   "metadata": {},
   "outputs": [],
   "source": [
    "Question 14: What is the output of the following code?\n",
    "import math\n",
    "print(math.pi)\n",
    "Sample Output: 3.14159..."
   ]
  },
  {
   "cell_type": "code",
   "execution_count": null,
   "id": "834555d4-8b9d-45c1-9ec6-a34cf367fa98",
   "metadata": {},
   "outputs": [
    {
     "data": {
      "text/plain": [
       "3.141592653589793"
      ]
     },
     "execution_count": 16,
     "metadata": {},
     "output_type": "execute_result"
    }
   ],
   "source": [
    "import math\n",
    "math.pi"
   ]
  },
  {
   "cell_type": "code",
   "execution_count": null,
   "id": "7d3aaf6a-76a6-4ad0-9a66-fb893f8a46f3",
   "metadata": {},
   "outputs": [],
   "source": [
    "The math.pi constant provides the value of π (pi), approximately 3.14159...."
   ]
  },
  {
   "cell_type": "code",
   "execution_count": null,
   "id": "6bb260c7-b9a4-4d24-86e5-6c26d106737a",
   "metadata": {},
   "outputs": [],
   "source": [
    "Question 15: Write a Python program to print the inverted star pyramid of height 5."
   ]
  },
  {
   "cell_type": "code",
   "execution_count": null,
   "id": "c59555e2-52fb-445b-8c45-cd6bd409ffee",
   "metadata": {},
   "outputs": [
    {
     "name": "stdout",
     "output_type": "stream",
     "text": [
      "*********\n",
      " *******\n",
      "  *****\n",
      "   ***\n",
      "    *\n"
     ]
    }
   ],
   "source": [
    "height = 5\n",
    "for i in range(height, 0, -1):\n",
    "    print(' ' * (height - i) + '*' * (2 * i - 1))"
   ]
  },
  {
   "cell_type": "code",
   "execution_count": null,
   "id": "8ef35564-c4ed-4ce3-afaf-9cb8c60ad084",
   "metadata": {},
   "outputs": [],
   "source": [
    "The program prints a star pyramid in reverse. The outer loop controls the number of rows, and for each row, spaces and stars are printed accordingly."
   ]
  }
 ],
 "metadata": {
  "kernelspec": {
   "display_name": "Python 3",
   "language": "python",
   "name": "python3"
  },
  "language_info": {
   "codemirror_mode": {
    "name": "ipython",
    "version": 3
   },
   "file_extension": ".py",
   "mimetype": "text/x-python",
   "name": "python",
   "nbconvert_exporter": "python",
   "pygments_lexer": "ipython3",
   "version": "3.13.2"
  }
 },
 "nbformat": 4,
 "nbformat_minor": 5
}
